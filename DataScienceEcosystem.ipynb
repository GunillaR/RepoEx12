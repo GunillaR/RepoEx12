{
 "cells": [
  {
   "cell_type": "markdown",
   "id": "c23f5d58-469e-4e9d-8ed0-ffd0c606ee43",
   "metadata": {},
   "source": [
    "# Data Science Tools and Ecosystem"
   ]
  },
  {
   "cell_type": "markdown",
   "id": "2ea65e3c-a5b7-4b69-b03e-4e077b7a59fc",
   "metadata": {},
   "source": [
    "## In this notebook, Data Science Tools and Ecosystem are summarized."
   ]
  },
  {
   "cell_type": "markdown",
   "id": "1c0b122f-f19e-4cde-8aba-0630d24e2916",
   "metadata": {},
   "source": [
    "# **Objectives:**\n",
    "- List of popular languages that Data Scientists use\n",
    "- List of commonly used libraries used by Data Scientists\n",
    "- Table with Data Science Tools\n",
    "- Arithmetic expressions in Python\n",
    "\n",
    "## Author\n",
    "Gunilla Rudander"
   ]
  },
  {
   "cell_type": "markdown",
   "id": "9188b6bf-3fb3-4c75-8e47-992b39c67d21",
   "metadata": {},
   "source": [
    "# Some of the popular languages that Data Scientists use are:\n",
    "\n",
    "1. Python\n",
    "2. R\n",
    "3. Julia"
   ]
  },
  {
   "cell_type": "markdown",
   "id": "60e40c8d-e57f-4a80-b0e4-65ca7a49ea1b",
   "metadata": {},
   "source": [
    "# Some of the commonly used libraries used by Data Scientists include:\n",
    "\n",
    "1. Pandas\n",
    "2. NumPy\n",
    "3. Matplotlib\n",
    "4. Keras"
   ]
  },
  {
   "cell_type": "markdown",
   "id": "7d6df475-b126-4024-bb1f-e6b6e725b586",
   "metadata": {},
   "source": [
    "| Data Science Tools       |\n",
    "|--------------------------|\n",
    "| Jupyter Notebook         |\n",
    "| RStudio                  |\n",
    "| VS Code                  |"
   ]
  },
  {
   "cell_type": "markdown",
   "id": "ee5a8a9a-aa92-4236-b079-57c83c56e865",
   "metadata": {},
   "source": [
    "### Below are a few examples of evaluating arithmetic expressions in Python"
   ]
  },
  {
   "cell_type": "markdown",
   "id": "3238bc4b-a5fc-4858-bb03-3af64f83062c",
   "metadata": {},
   "source": [
    "#### This a simple arithmetic expression to mutiply then add integers"
   ]
  },
  {
   "cell_type": "code",
   "execution_count": 1,
   "id": "d1787cbc-04ff-40cc-8a71-74a69474a205",
   "metadata": {},
   "outputs": [
    {
     "data": {
      "text/plain": [
       "17"
      ]
     },
     "execution_count": 1,
     "metadata": {},
     "output_type": "execute_result"
    }
   ],
   "source": [
    "(3*4)+5"
   ]
  },
  {
   "cell_type": "markdown",
   "id": "10ef995e-8f65-4bff-9c49-a56491ae5df5",
   "metadata": {},
   "source": [
    "#### This will convert 200 minutes to hours by diving by 60."
   ]
  },
  {
   "cell_type": "code",
   "execution_count": 2,
   "id": "571b5c5c-70bb-4269-ab01-f7de5d666661",
   "metadata": {},
   "outputs": [
    {
     "name": "stdout",
     "output_type": "stream",
     "text": [
      "3.3333333333333335  hours\n"
     ]
    }
   ],
   "source": [
    "min=200\n",
    "hours=min/60\n",
    "print(hours, \" hours\")"
   ]
  },
  {
   "cell_type": "code",
   "execution_count": null,
   "id": "54caf4de-246f-4d23-b0bc-8d3c878476e3",
   "metadata": {},
   "outputs": [],
   "source": []
  }
 ],
 "metadata": {
  "kernelspec": {
   "display_name": "Python 3 (ipykernel)",
   "language": "python",
   "name": "python3"
  },
  "language_info": {
   "codemirror_mode": {
    "name": "ipython",
    "version": 3
   },
   "file_extension": ".py",
   "mimetype": "text/x-python",
   "name": "python",
   "nbconvert_exporter": "python",
   "pygments_lexer": "ipython3",
   "version": "3.12.8"
  }
 },
 "nbformat": 4,
 "nbformat_minor": 5
}
